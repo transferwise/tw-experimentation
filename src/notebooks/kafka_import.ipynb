{
 "cells": [
  {
   "cell_type": "markdown",
   "metadata": {},
   "source": [
    "Start Clickhouse in the `clickhouse` directory with `docker run -d --name clickhouse-server --ulimit nofile=262144:262144 -p 8123:8123 -p 9000:9000 --volume=storage:/var/lib/clickhouse yandex/clickhouse-server`"
   ]
  },
  {
   "cell_type": "code",
   "execution_count": null,
   "metadata": {},
   "outputs": [],
   "source": [
    "!pip install clickhouse-driver[lz4,zstd]"
   ]
  },
  {
   "cell_type": "code",
   "execution_count": 15,
   "metadata": {},
   "outputs": [
    {
     "data": {
      "text/plain": [
       "[('default',), ('ledger',), ('system',)]"
      ]
     },
     "execution_count": 15,
     "metadata": {},
     "output_type": "execute_result"
    }
   ],
   "source": [
    "from clickhouse_driver import Client\n",
    "client = Client(host='localhost', port=9001)\n",
    "client.execute('SHOW DATABASES')"
   ]
  },
  {
   "cell_type": "code",
   "execution_count": 17,
   "metadata": {},
   "outputs": [
    {
     "data": {
      "text/plain": [
       "[]"
      ]
     },
     "execution_count": 17,
     "metadata": {},
     "output_type": "execute_result"
    }
   ],
   "source": [
    "client.execute('SELECT * FROM system.numbers LIMIT 5')"
   ]
  },
  {
   "cell_type": "markdown",
   "metadata": {},
   "source": [
    "Now let's read some stuff from Kafka!"
   ]
  },
  {
   "cell_type": "code",
   "execution_count": 2,
   "metadata": {},
   "outputs": [],
   "source": [
    "topic = 'data'"
   ]
  },
  {
   "cell_type": "code",
   "execution_count": 7,
   "metadata": {},
   "outputs": [
    {
     "name": "stdout",
     "output_type": "stream",
     "text": [
      "0\n"
     ]
    },
    {
     "data": {
      "text/plain": [
       "[]"
      ]
     },
     "execution_count": 7,
     "metadata": {},
     "output_type": "execute_result"
    }
   ],
   "source": [
    "grp=0\n",
    "# as I can't be bothered to find out how to change from docker-compose the clickhouse config that\n",
    "# asks it to read from the start of a topic, let's first setup the connection, then push data to Kafka\n",
    "\n",
    "print(grp)\n",
    "client.execute(\"DROP TABLE if exists queue;\")\n",
    "client.execute(\"DROP TABLE if exists kafka_view;\")\n",
    "client.execute(\"DROP TABLE if exists my_table;\")\n",
    "\n",
    "client.execute(f\"\"\"  \n",
    "CREATE TABLE queue (\n",
    "`Category1` String,\n",
    "`Category2` String,\n",
    "`Category3` String,\n",
    "`Amount` Float64\n",
    ") ENGINE = Kafka('kafka:9092', '{topic}', 'group{grp}', 'JSONEachRow');\n",
    "\"\"\")\n",
    "\n",
    "# https://altinity.com/blog/2019/3/27/low-cardinality\n",
    "client.execute(\"\"\"\n",
    " CREATE TABLE my_table (\n",
    "   `Category1` LowCardinality(String),\n",
    "    `Category2` LowCardinality(String),\n",
    "    `Category3` LowCardinality(String),\n",
    "    `Amount` Float64\n",
    "  ) ENGINE = MergeTree() order by `Category1`;\n",
    "\"\"\")\n",
    "\n",
    "client.execute(\"\"\"CREATE MATERIALIZED VIEW kafka_view TO my_table AS SELECT * FROM queue;\"\"\" )\n",
    "\n"
   ]
  },
  {
   "cell_type": "code",
   "execution_count": 9,
   "metadata": {},
   "outputs": [
    {
     "name": "stdout",
     "output_type": "stream",
     "text": [
      "0 2021-03-24 09:28:24.507622\n",
      "done!\n"
     ]
    }
   ],
   "source": [
    "import json\n",
    "import datetime\n",
    "import random\n",
    "\n",
    "from confluent_kafka import Producer\n",
    "\n",
    "num_records = s3e8\n",
    "\n",
    "producer = Producer({\"bootstrap.servers\": \"kafka:9092\"})\n",
    "\n",
    "def delivery_report(err, decoded_message, original_message):\n",
    "    if err is not None:\n",
    "        print(err)\n",
    "\n",
    "values = [f'value{x}' for x in range(100)]\n",
    "subvalues = [f'subvalue{x}' for x in range(10)]\n",
    "mapping = {v: random.choice(subvalues) for v in values}\n",
    "\n",
    "def new_message():\n",
    "    return json.dumps({'Category1': random.choice(values),\n",
    "            'Category2': random.choice(values),\n",
    "            'Category3': random.choice(subvalues),\n",
    "            'Amount': random.uniform(0,2)}\n",
    "           ).encode()\n",
    "          \n",
    "          \n",
    "def confluent_producer_async():\n",
    "    for i in range(int(num_records)):\n",
    "        msg = new_message()\n",
    "        producer.produce(\n",
    "            topic,\n",
    "            msg,\n",
    "            callback=lambda err, decoded_message, original_message=msg: delivery_report(  # noqa\n",
    "                err, decoded_message, original_message\n",
    "            ),\n",
    "        )\n",
    "        if i % 100000 == 0:\n",
    "            producer.flush()\n",
    "            if i % 1000000 == 0:\n",
    "                print(i, datetime.datetime.now())\n",
    "        \n",
    "confluent_producer_async()\n",
    "\n",
    "print('done!', datetime.datetime.now())"
   ]
  },
  {
   "cell_type": "code",
   "execution_count": 10,
   "metadata": {},
   "outputs": [
    {
     "name": "stdout",
     "output_type": "stream",
     "text": [
      "ConsumerRecord(topic='data', partition=0, offset=0, timestamp=1616578031783, timestamp_type=0, key=None, value=b'{\"Category1\": \"value7\", \"Category2\": \"value98\", \"Category3\": \"subvalue1\", \"Amount\": 0.8826342291239988}', headers=[], checksum=None, serialized_key_size=-1, serialized_value_size=103, serialized_header_size=-1)\n"
     ]
    }
   ],
   "source": [
    "# Use this to check that messages actually exist\n",
    "from kafka import KafkaConsumer\n",
    "consumer = KafkaConsumer(topic, \n",
    "                         bootstrap_servers=\"kafka:9092\", \n",
    "                         auto_offset_reset='earliest', \n",
    "                         enable_auto_commit=False,\n",
    "                        consumer_timeout_ms=1000)\n",
    "for message in consumer:\n",
    "    print (message)\n",
    "    break"
   ]
  },
  {
   "cell_type": "code",
   "execution_count": 11,
   "metadata": {},
   "outputs": [
    {
     "data": {
      "text/plain": [
       "[(2000000,)]"
      ]
     },
     "execution_count": 11,
     "metadata": {},
     "output_type": "execute_result"
    }
   ],
   "source": [
    "client.execute(\"SELECT count(*) FROM my_table\")"
   ]
  },
  {
   "cell_type": "code",
   "execution_count": 12,
   "metadata": {},
   "outputs": [
    {
     "name": "stdout",
     "output_type": "stream",
     "text": [
      "Wall time: 136 ms\n"
     ]
    },
    {
     "data": {
      "text/plain": [
       "[('value14', 207.5905536205164),\n",
       " ('value27', 224.91478197638577),\n",
       " ('value29', 222.979671888215),\n",
       " ('value26', 188.14472108291187),\n",
       " ('value83', 179.48815359037786),\n",
       " ('value43', 220.36624164422568),\n",
       " ('value9', 194.05700901875622),\n",
       " ('value19', 191.70593048532135),\n",
       " ('value76', 233.9466555345544),\n",
       " ('value89', 164.92161046257155),\n",
       " ('value88', 175.68549156671466),\n",
       " ('value98', 193.3670525014535),\n",
       " ('value21', 175.0714185435271),\n",
       " ('value95', 204.50444367258314),\n",
       " ('value17', 174.5596319350154),\n",
       " ('value60', 214.47154609003974),\n",
       " ('value46', 143.094695712548),\n",
       " ('value94', 225.3006863657615),\n",
       " ('value31', 185.91040229906267),\n",
       " ('value59', 219.96830339311705),\n",
       " ('value7', 189.9239971849509),\n",
       " ('value75', 221.532429741257),\n",
       " ('value92', 182.22757333713122),\n",
       " ('value97', 186.78013156879751),\n",
       " ('value24', 231.33347125818065),\n",
       " ('value56', 194.00550865134187),\n",
       " ('value38', 176.38935144709177),\n",
       " ('value66', 164.28733545971303),\n",
       " ('value34', 194.2675087739238),\n",
       " ('value10', 206.06642868786543),\n",
       " ('value30', 177.31211590293472),\n",
       " ('value11', 178.606246866305),\n",
       " ('value51', 210.05073348193372),\n",
       " ('value39', 210.12702038907887),\n",
       " ('value79', 170.8097339613094),\n",
       " ('value37', 198.59721701916362),\n",
       " ('value86', 199.53670529639405),\n",
       " ('value36', 173.67496602859),\n",
       " ('value58', 200.97628481653695),\n",
       " ('value2', 206.57801902313022),\n",
       " ('value48', 197.65466148462073),\n",
       " ('value61', 199.5640254715882),\n",
       " ('value32', 223.1002534045894),\n",
       " ('value84', 192.35628435711192),\n",
       " ('value71', 194.1394529275047),\n",
       " ('value47', 178.3697940529833),\n",
       " ('value23', 201.63785719064887),\n",
       " ('value0', 205.39273335570763),\n",
       " ('value1', 185.63649564573558),\n",
       " ('value68', 202.05011179957575),\n",
       " ('value62', 198.02257807946935),\n",
       " ('value16', 230.60035166471),\n",
       " ('value53', 178.53044633546088),\n",
       " ('value44', 186.69077899290266),\n",
       " ('value25', 185.0991885485916),\n",
       " ('value57', 204.93151308428074),\n",
       " ('value20', 210.67026128635132),\n",
       " ('value50', 175.411024703032),\n",
       " ('value6', 193.11817194382922),\n",
       " ('value77', 221.83149966998417),\n",
       " ('value52', 178.6462971239302),\n",
       " ('value54', 208.3986302064277),\n",
       " ('value12', 190.38591902414208),\n",
       " ('value81', 208.59036171188558),\n",
       " ('value28', 191.8834914602114),\n",
       " ('value45', 193.2544735203758),\n",
       " ('value93', 183.28897948132388),\n",
       " ('value65', 200.00165646710258),\n",
       " ('value64', 216.37898873911882),\n",
       " ('value85', 214.66149560447644),\n",
       " ('value15', 178.03656754416386),\n",
       " ('value55', 203.61532380164445),\n",
       " ('value73', 184.16836768931958),\n",
       " ('value8', 231.88258578410216),\n",
       " ('value18', 188.01655123205836),\n",
       " ('value80', 210.5214334943219),\n",
       " ('value49', 208.9520728359392),\n",
       " ('value70', 218.10344754877957),\n",
       " ('value91', 212.24010055940076),\n",
       " ('value99', 221.88700218816484),\n",
       " ('value3', 171.68506861592994),\n",
       " ('value63', 222.96693451031445),\n",
       " ('value72', 161.8411303872411),\n",
       " ('value74', 227.2463593804129),\n",
       " ('value40', 204.37488496101298),\n",
       " ('value41', 207.20453438496156),\n",
       " ('value90', 204.53435797896353),\n",
       " ('value5', 189.49040298913366),\n",
       " ('value4', 205.8421946929852),\n",
       " ('value22', 209.64293500045778),\n",
       " ('value78', 209.67182466849485),\n",
       " ('value82', 225.02597067417878),\n",
       " ('value33', 227.3799906905083),\n",
       " ('value69', 201.4722077405803),\n",
       " ('value35', 211.1606987526931),\n",
       " ('value87', 230.20945791895792),\n",
       " ('value96', 214.47628505389235),\n",
       " ('value13', 203.32967595758066),\n",
       " ('value67', 217.025425763822),\n",
       " ('value42', 239.43647420303108)]"
      ]
     },
     "execution_count": 12,
     "metadata": {},
     "output_type": "execute_result"
    }
   ],
   "source": [
    "%%time\n",
    "client.execute(\"SELECT `Category1`, sum(`Amount`) from my_table where `Category2` = 'value1' group by `Category1`\")"
   ]
  },
  {
   "cell_type": "markdown",
   "metadata": {},
   "source": [
    "Now let's create a lookup dict that pretends it's a table, and use it for 'metadata' lookups"
   ]
  },
  {
   "cell_type": "code",
   "execution_count": 13,
   "metadata": {},
   "outputs": [
    {
     "data": {
      "text/plain": [
       "[('subvalue8',)]"
      ]
     },
     "execution_count": 13,
     "metadata": {},
     "output_type": "execute_result"
    }
   ],
   "source": [
    "# -- prepare the dict\n",
    "\n",
    "client.execute('drop table if exists mapping_table')\n",
    "client.execute('drop dictionary if exists mapping_dict')\n",
    "\n",
    "client.execute('''\n",
    "CREATE TABLE mapping_table\n",
    "(\n",
    "    `Category1` String, \n",
    "    `SubCategory1` String\n",
    ") \n",
    "ENGINE = Log;\n",
    "''')\n",
    "inner_sql = ','.join([f\"('{key}', '{value}')\" for key, value in mapping.items()])\n",
    "insert_sql = f\"INSERT INTO mapping_table VALUES {inner_sql}\"\n",
    "client.execute(insert_sql)\n",
    "\n",
    "client.execute('''\n",
    "CREATE DICTIONARY if not exists mapping_dict\n",
    "(\n",
    "    `Category1` String, \n",
    "    `SubCategory1` String\n",
    ")\n",
    "PRIMARY KEY `Category1`\n",
    "SOURCE(CLICKHOUSE(HOST 'localhost' PORT 9000 USER 'default' TABLE 'mapping_table' PASSWORD '' DB 'default'))\n",
    "LIFETIME(MIN 1 MAX 10)\n",
    "LAYOUT(COMPLEX_KEY_HASHED());\n",
    "''')\n",
    "\n",
    "# --- you can use it 'standalone'\n",
    "\n",
    "client.execute('''select dictGet('default.mapping_dict', 'SubCategory1', tuple('value1'));''')\n"
   ]
  },
  {
   "cell_type": "code",
   "execution_count": 14,
   "metadata": {},
   "outputs": [
    {
     "name": "stdout",
     "output_type": "stream",
     "text": [
      "Wall time: 139 ms\n"
     ]
    },
    {
     "data": {
      "text/plain": [
       "[('subvalue9', 1765.395300943433),\n",
       " ('subvalue8', 1795.6587273186844),\n",
       " ('subvalue1', 2796.5558449684017),\n",
       " ('subvalue6', 2107.4622153452915),\n",
       " ('subvalue7', 1807.8253260336737),\n",
       " ('subvalue0', 1593.4361883763227),\n",
       " ('subvalue4', 1822.801146415727),\n",
       " ('subvalue3', 1682.53974685345),\n",
       " ('subvalue2', 2204.19403358955),\n",
       " ('subvalue5', 2429.0012947754717)]"
      ]
     },
     "execution_count": 14,
     "metadata": {},
     "output_type": "execute_result"
    }
   ],
   "source": [
    "%%time\n",
    "client.execute(\"\"\"SELECT `SubCategory1`, sum(`Amount`) \n",
    "                    from my_table as t\n",
    "                    inner join mapping_dict as d \n",
    "                    on t.`Category1` = d.`Category1`\n",
    "                    where `Category2` = 'value1' group by `SubCategory1`\"\"\")"
   ]
  },
  {
   "cell_type": "code",
   "execution_count": null,
   "metadata": {},
   "outputs": [],
   "source": []
  }
 ],
 "metadata": {
  "kernelspec": {
   "display_name": "Python 3",
   "language": "python",
   "name": "python3"
  },
  "language_info": {
   "codemirror_mode": {
    "name": "ipython",
    "version": 3
   },
   "file_extension": ".py",
   "mimetype": "text/x-python",
   "name": "python",
   "nbconvert_exporter": "python",
   "pygments_lexer": "ipython3",
   "version": "3.7.6"
  }
 },
 "nbformat": 4,
 "nbformat_minor": 4
}
