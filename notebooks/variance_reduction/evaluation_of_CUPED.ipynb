{
    "cells": [
        {
            "cell_type": "code",
            "execution_count": 9,
            "metadata": {},
            "outputs": [
                {
                    "name": "stdout",
                    "output_type": "stream",
                    "text": [
                        "The autoreload extension is already loaded. To reload it, use:\n",
                        "  %reload_ext autoreload\n"
                    ]
                }
            ],
            "source": [
                "import numpy as np\n",
                "import matplotlib.pyplot as plt\n",
                "import statsmodels.api as sm\n",
                "import statsmodels.formula.api as smf\n",
                "import pandas as pd\n",
                "# from flaml import AutoML\n",
                "# from sklearn.ensemble import HistGradientBoostingRegressor, ExtraTreesRegressor, RandomForestRegressor\n",
                "# from sklearn.linear_model import ElasticNet\n",
                "# from sklearn.tree import DecisionTreeRegressor\n",
                "\n",
                "# from lightgbm import LGBMRegressor\n",
                "from prettytable import PrettyTable\n",
                "import sys  \n",
                "import os\n",
                "root_path = os.path.realpath('/..')\n",
                "sys.path.insert(0, root_path)\n",
                "%load_ext autoreload\n",
                "%autoreload 2\n",
                "\n",
                "from variance_reduction.diff_in_means import DifferenceInMeans\n",
                "from variance_reduction.cuped import CUPED, multiple_CUPEDs, MultivariateCUPED\n",
                "from variance_reduction.utils import create_pretty_table, query_snowflake, bootstrap_generator, subsample_generator, bootstrap_data, subsample_data, aaify, add_synthetic_effect\n",
                "# from variance_reduction.mlrate import MLRATE, AltMLRATE\n",
                "# from variance_reduction.cupac import CUPAC\n",
                "# from variance_reduction.doubly_robust import DoublyRobustEstimator\n",
                "from variance_reduction.evaluation_pipeline import VREvaluation, VREvaluationAll\n",
                "from variance_reduction.multivariate_regression import MultivariateRegression, MultivariateRegressionAdjusted\n"
            ]
        },
        {
            "cell_type": "markdown",
            "metadata": {},
            "source": [
                "# Simple synthetic data"
            ]
        },
        {
            "cell_type": "code",
            "execution_count": 10,
            "metadata": {},
            "outputs": [],
            "source": [
                "def generate_synthetic_data(n):\n",
                "\n",
                "    # pre experiment metric\n",
                "    group_0 = np.random.exponential(10, n//2)\n",
                "    group_1 = np.random.exponential(10, n//2)\n",
                "\n",
                "    pre_metric = np.concatenate([group_0, group_1])\n",
                "\n",
                "    # experiment metric\n",
                "    ctrl_group_0 = group_0 + np.random.normal(0,1, n//2)\n",
                "    treatment_group_1 = group_1 + np.random.normal(5,1, n//2) + np.random.normal(0,1, n//2)\n",
                "\n",
                "    exp_metric = np.concatenate([ctrl_group_0, treatment_group_1])\n",
                "\n",
                "    # treatment\n",
                "    treatment = np.concatenate([np.zeros(n//2), np.ones(n//2)])\n",
                "\n",
                "    # assemble dataframe\n",
                "    df = pd.DataFrame({\n",
                "        'Y': exp_metric,\n",
                "        'T': treatment,\n",
                "        'X': pre_metric\n",
                "    })\n",
                "\n",
                "    # shuffle\n",
                "    df = df.sample(frac=1).reset_index(drop=True)\n",
                "\n",
                "    return df\n"
            ]
        },
        {
            "cell_type": "code",
            "execution_count": 11,
            "metadata": {},
            "outputs": [],
            "source": [
                "simple_synthetic_df = generate_synthetic_data(10000)"
            ]
        },
        {
            "cell_type": "markdown",
            "metadata": {},
            "source": [
                "## MultivariateCUPED"
            ]
        },
        {
            "cell_type": "code",
            "execution_count": 15,
            "metadata": {},
            "outputs": [],
            "source": [
                "MultiCUPED_params_map = {\n",
                "    'MultivariateCUPED' : {\n",
                "        'covariate_columns': ['X']\n",
                "    }\n",
                "}"
            ]
        },
        {
            "cell_type": "code",
            "execution_count": 18,
            "metadata": {},
            "outputs": [
                {
                    "name": "stdout",
                    "output_type": "stream",
                    "text": [
                        "Running MultivariateCUPED...\n"
                    ]
                },
                {
                    "name": "stderr",
                    "output_type": "stream",
                    "text": [
                        "100%|██████████| 100/100 [00:01<00:00, 73.91it/s]\n"
                    ]
                }
            ],
            "source": [
                "multi_cuped_evaluation = VREvaluation(MultivariateCUPED)\n",
                "multi_cuped_evaluation = multi_cuped_evaluation.run(data=simple_synthetic_df,\n",
                "                                      treatment_column='T',\n",
                "                                      target_column='Y',\n",
                "                                      method_params_map=MultiCUPED_params_map,\n",
                "                                      verbose=True,\n",
                "                                      n_bootstrap=100)"
            ]
        },
        {
            "cell_type": "code",
            "execution_count": 19,
            "metadata": {},
            "outputs": [
                {
                    "data": {
                        "image/png": "[encoded data removed]",
                        "text/plain": [
                            "<Figure size 640x480 with 1 Axes>"
                        ]
                    },
                    "metadata": {},
                    "output_type": "display_data"
                }
            ],
            "source": [
                "multi_cuped_evaluation.plot(plot_what='estimates')"
            ]
        },
        {
            "cell_type": "markdown",
            "metadata": {},
            "source": [
                "## CUPED vs MultivariateCUPED"
            ]
        },
        {
            "cell_type": "code",
            "execution_count": 21,
            "metadata": {},
            "outputs": [],
            "source": [
                "cupeds_params_map = {\n",
                "    'MultivariateCUPED' : {\n",
                "            'covariate_columns': ['X']\n",
                "        },\n",
                "    'CUPED' : {\n",
                "        'covariate_column': 'X'\n",
                "    }\n",
                "}"
            ]
        },
        {
            "cell_type": "code",
            "execution_count": 24,
            "metadata": {},
            "outputs": [
                {
                    "name": "stdout",
                    "output_type": "stream",
                    "text": [
                        "Running CUPED...\n"
                    ]
                },
                {
                    "name": "stderr",
                    "output_type": "stream",
                    "text": [
                        "100%|██████████| 100/100 [00:01<00:00, 69.09it/s]\n"
                    ]
                },
                {
                    "name": "stdout",
                    "output_type": "stream",
                    "text": [
                        "Running MultivariateCUPED...\n"
                    ]
                },
                {
                    "name": "stderr",
                    "output_type": "stream",
                    "text": [
                        "100%|██████████| 100/100 [00:01<00:00, 76.67it/s]"
                    ]
                },
                {
                    "name": "stdout",
                    "output_type": "stream",
                    "text": [
                        "Done!\n"
                    ]
                },
                {
                    "name": "stderr",
                    "output_type": "stream",
                    "text": [
                        "\n"
                    ]
                }
            ],
            "source": [
                "cupeds_evaluation = VREvaluationAll([CUPED, MultivariateCUPED])\n",
                "cupeds_evaluation = cupeds_evaluation.run_all(data=simple_synthetic_df,\n",
                "                                      treatment_column='T',\n",
                "                                      target_column='Y',\n",
                "                                      method_params_map=cupeds_params_map,\n",
                "                                      verbose=True,\n",
                "                                      n_bootstrap=100)"
            ]
        },
        {
            "cell_type": "code",
            "execution_count": 26,
            "metadata": {},
            "outputs": [
                {
                    "data": {
                        "text/html": [
                            "<div>\n",
                            "<style scoped>\n",
                            "    .dataframe tbody tr th:only-of-type {\n",
                            "        vertical-align: middle;\n",
                            "    }\n",
                            "\n",
                            "    .dataframe tbody tr th {\n",
                            "        vertical-align: top;\n",
                            "    }\n",
                            "\n",
                            "    .dataframe thead th {\n",
                            "        text-align: right;\n",
                            "    }\n",
                            "</style>\n",
                            "<table border=\"1\" class=\"dataframe\">\n",
                            "  <thead>\n",
                            "    <tr style=\"text-align: right;\">\n",
                            "      <th></th>\n",
                            "      <th>Method</th>\n",
                            "      <th>Estimate</th>\n",
                            "      <th>Estimate CI</th>\n",
                            "      <th>Bias</th>\n",
                            "      <th>Bias CI</th>\n",
                            "      <th>p-value</th>\n",
                            "      <th>p-value CI</th>\n",
                            "      <th>Coverage Probability</th>\n",
                            "      <th>Variance Reduction</th>\n",
                            "    </tr>\n",
                            "  </thead>\n",
                            "  <tbody>\n",
                            "    <tr>\n",
                            "      <th>0</th>\n",
                            "      <td>CUPED</td>\n",
                            "      <td>4.983257</td>\n",
                            "      <td>(4.938419563182486, 5.038652469432129)</td>\n",
                            "      <td>None</td>\n",
                            "      <td>None</td>\n",
                            "      <td>0.0</td>\n",
                            "      <td>(0.0, 0.0)</td>\n",
                            "      <td>None</td>\n",
                            "      <td>0.983575</td>\n",
                            "    </tr>\n",
                            "    <tr>\n",
                            "      <th>1</th>\n",
                            "      <td>MultivariateCUPED</td>\n",
                            "      <td>4.983257</td>\n",
                            "      <td>(4.938419563182489, 5.038652469432129)</td>\n",
                            "      <td>None</td>\n",
                            "      <td>None</td>\n",
                            "      <td>0.0</td>\n",
                            "      <td>(0.0, 0.0)</td>\n",
                            "      <td>None</td>\n",
                            "      <td>0.983575</td>\n",
                            "    </tr>\n",
                            "  </tbody>\n",
                            "</table>\n",
                            "</div>"
                        ],
                        "text/plain": [
                            "              Method  Estimate                             Estimate CI  Bias  \\\n",
                            "0              CUPED  4.983257  (4.938419563182486, 5.038652469432129)  None   \n",
                            "1  MultivariateCUPED  4.983257  (4.938419563182489, 5.038652469432129)  None   \n",
                            "\n",
                            "  Bias CI  p-value  p-value CI Coverage Probability  Variance Reduction  \n",
                            "0    None      0.0  (0.0, 0.0)                 None            0.983575  \n",
                            "1    None      0.0  (0.0, 0.0)                 None            0.983575  "
                        ]
                    },
                    "execution_count": 26,
                    "metadata": {},
                    "output_type": "execute_result"
                }
            ],
            "source": [
                "cupeds_evaluation.report()"
            ]
        },
        {
            "cell_type": "code",
            "execution_count": 25,
            "metadata": {},
            "outputs": [
                {
                    "data": {
                        "image/png": "[encoded data removed]",
                        "text/plain": [
                            "<Figure size 640x480 with 1 Axes>"
                        ]
                    },
                    "metadata": {},
                    "output_type": "display_data"
                }
            ],
            "source": [
                "cupeds_evaluation.plot(plot_what='estimates')"
            ]
        },
        {
            "cell_type": "code",
            "execution_count": null,
            "metadata": {},
            "outputs": [],
            "source": []
        },
        {
            "cell_type": "markdown",
            "metadata": {},
            "source": [
                "# Synthetic data MLRATE paper and other VR methods"
            ]
        },
        {
            "cell_type": "code",
            "execution_count": 74,
            "metadata": {},
            "outputs": [],
            "source": [
                "def dgp(n=2000, p=10, linear=True, constant=True):\n",
                "    \"\"\"DGP from https://github.com/muratunalphd/Blog-Posts/blob/main/variance-reduction-methods/MLRATE.ipynb\"\"\"\n",
                "        \n",
                "    Xmat = np.random.multivariate_normal(np.zeros(p), np.eye(p), size=n).astype('float32')\n",
                "\n",
                "    T = np.random.binomial(1, 0.5, n).astype('int8')\n",
                "\n",
                "    col_list = ['X' + str(x) for x in range(1,(p+1))]\n",
                "\n",
                "    df = pd.DataFrame(Xmat, columns = col_list)\n",
                "    \n",
                "    # functional form of the covariates\n",
                "    if linear:\n",
                "        B = 225 + 50*df['X1'] + 5*df['X2'] + 20*(df['X3']-0.5) + 10*df['X4'] + 5*df['X5']\n",
                "    else:\n",
                "        B = 225 + 50*df['X1'] + 5*np.sin(np.pi*df['X1']*df['X2'] ) + 10*(df['X3']-0.5)**2 + 10*df['X4']**2 + 5*df['X5']**3\n",
                "    \n",
                "    # constant ate or non-constant\n",
                "    tau = 1.8 if constant else 5*df['X1'] + 5*np.log(1 + np.exp(df['X2']))\n",
                "    \n",
                "    # Y = (B + tau*T + np.random.normal(0,25,n)).astype('float32')\n",
                "    Y = (B + tau*T + np.random.normal(0,25,n)).astype('float32')\n",
                "        \n",
                "    df['T'] = T\n",
                "    df['Y'] = Y    \n",
                "    return df"
            ]
        },
        {
            "cell_type": "code",
            "execution_count": 75,
            "metadata": {},
            "outputs": [],
            "source": [
                "nonlinear_synthetic_df = dgp(n=2000, p=10, linear=False, constant=True)\n",
                "linear_synthetic_df = dgp(n=2000, p=10, linear=True, constant=True)"
            ]
        },
        {
            "cell_type": "markdown",
            "metadata": {},
            "source": [
                "## CUPED vs MultivariateCUPED"
            ]
        },
        {
            "cell_type": "markdown",
            "metadata": {},
            "source": [
                "### Linear"
            ]
        },
        {
            "cell_type": "code",
            "execution_count": 76,
            "metadata": {},
            "outputs": [
                {
                    "data": {
                        "text/html": [
                            "<div>\n",
                            "<style scoped>\n",
                            "    .dataframe tbody tr th:only-of-type {\n",
                            "        vertical-align: middle;\n",
                            "    }\n",
                            "\n",
                            "    .dataframe tbody tr th {\n",
                            "        vertical-align: top;\n",
                            "    }\n",
                            "\n",
                            "    .dataframe thead th {\n",
                            "        text-align: right;\n",
                            "    }\n",
                            "</style>\n",
                            "<table border=\"1\" class=\"dataframe\">\n",
                            "  <thead>\n",
                            "    <tr style=\"text-align: right;\">\n",
                            "      <th></th>\n",
                            "      <th>X1</th>\n",
                            "      <th>X2</th>\n",
                            "      <th>X3</th>\n",
                            "      <th>X4</th>\n",
                            "      <th>X5</th>\n",
                            "      <th>X6</th>\n",
                            "      <th>X7</th>\n",
                            "      <th>X8</th>\n",
                            "      <th>X9</th>\n",
                            "      <th>X10</th>\n",
                            "      <th>T</th>\n",
                            "      <th>Y</th>\n",
                            "    </tr>\n",
                            "  </thead>\n",
                            "  <tbody>\n",
                            "    <tr>\n",
                            "      <th>X1</th>\n",
                            "      <td>0.983304</td>\n",
                            "      <td>0.014045</td>\n",
                            "      <td>-0.000189</td>\n",
                            "      <td>0.008015</td>\n",
                            "      <td>-0.016065</td>\n",
                            "      <td>-0.001043</td>\n",
                            "      <td>0.004428</td>\n",
                            "      <td>0.020371</td>\n",
                            "      <td>-0.022790</td>\n",
                            "      <td>-0.020885</td>\n",
                            "      <td>-0.004188</td>\n",
                            "      <td>49.597994</td>\n",
                            "    </tr>\n",
                            "    <tr>\n",
                            "      <th>X2</th>\n",
                            "      <td>0.014045</td>\n",
                            "      <td>1.006121</td>\n",
                            "      <td>0.031699</td>\n",
                            "      <td>-0.015039</td>\n",
                            "      <td>-0.008409</td>\n",
                            "      <td>-0.016452</td>\n",
                            "      <td>-0.001691</td>\n",
                            "      <td>-0.007508</td>\n",
                            "      <td>0.031357</td>\n",
                            "      <td>-0.000964</td>\n",
                            "      <td>-0.020979</td>\n",
                            "      <td>6.126487</td>\n",
                            "    </tr>\n",
                            "    <tr>\n",
                            "      <th>X3</th>\n",
                            "      <td>-0.000189</td>\n",
                            "      <td>0.031699</td>\n",
                            "      <td>1.005702</td>\n",
                            "      <td>0.005195</td>\n",
                            "      <td>-0.014588</td>\n",
                            "      <td>-0.004972</td>\n",
                            "      <td>-0.020226</td>\n",
                            "      <td>0.028291</td>\n",
                            "      <td>0.028903</td>\n",
                            "      <td>-0.007292</td>\n",
                            "      <td>0.020594</td>\n",
                            "      <td>19.880386</td>\n",
                            "    </tr>\n",
                            "    <tr>\n",
                            "      <th>X4</th>\n",
                            "      <td>0.008015</td>\n",
                            "      <td>-0.015039</td>\n",
                            "      <td>0.005195</td>\n",
                            "      <td>0.950916</td>\n",
                            "      <td>-0.019210</td>\n",
                            "      <td>0.021071</td>\n",
                            "      <td>-0.018722</td>\n",
                            "      <td>0.056751</td>\n",
                            "      <td>0.010907</td>\n",
                            "      <td>0.008695</td>\n",
                            "      <td>0.016558</td>\n",
                            "      <td>9.491887</td>\n",
                            "    </tr>\n",
                            "    <tr>\n",
                            "      <th>X5</th>\n",
                            "      <td>-0.016065</td>\n",
                            "      <td>-0.008409</td>\n",
                            "      <td>-0.014588</td>\n",
                            "      <td>-0.019210</td>\n",
                            "      <td>1.018603</td>\n",
                            "      <td>0.002247</td>\n",
                            "      <td>-0.013766</td>\n",
                            "      <td>-0.028570</td>\n",
                            "      <td>0.027674</td>\n",
                            "      <td>0.057351</td>\n",
                            "      <td>-0.008553</td>\n",
                            "      <td>4.269846</td>\n",
                            "    </tr>\n",
                            "    <tr>\n",
                            "      <th>X6</th>\n",
                            "      <td>-0.001043</td>\n",
                            "      <td>-0.016452</td>\n",
                            "      <td>-0.004972</td>\n",
                            "      <td>0.021071</td>\n",
                            "      <td>0.002247</td>\n",
                            "      <td>1.083981</td>\n",
                            "      <td>-0.002390</td>\n",
                            "      <td>-0.006789</td>\n",
                            "      <td>-0.024002</td>\n",
                            "      <td>0.009376</td>\n",
                            "      <td>-0.013176</td>\n",
                            "      <td>-0.892172</td>\n",
                            "    </tr>\n",
                            "    <tr>\n",
                            "      <th>X7</th>\n",
                            "      <td>0.004428</td>\n",
                            "      <td>-0.001691</td>\n",
                            "      <td>-0.020226</td>\n",
                            "      <td>-0.018722</td>\n",
                            "      <td>-0.013766</td>\n",
                            "      <td>-0.002390</td>\n",
                            "      <td>0.985049</td>\n",
                            "      <td>0.019813</td>\n",
                            "      <td>-0.017142</td>\n",
                            "      <td>-0.018450</td>\n",
                            "      <td>-0.004985</td>\n",
                            "      <td>-1.282637</td>\n",
                            "    </tr>\n",
                            "    <tr>\n",
                            "      <th>X8</th>\n",
                            "      <td>0.020371</td>\n",
                            "      <td>-0.007508</td>\n",
                            "      <td>0.028291</td>\n",
                            "      <td>0.056751</td>\n",
                            "      <td>-0.028570</td>\n",
                            "      <td>-0.006789</td>\n",
                            "      <td>0.019813</td>\n",
                            "      <td>1.000475</td>\n",
                            "      <td>0.005235</td>\n",
                            "      <td>0.020190</td>\n",
                            "      <td>0.011552</td>\n",
                            "      <td>3.074354</td>\n",
                            "    </tr>\n",
                            "    <tr>\n",
                            "      <th>X9</th>\n",
                            "      <td>-0.022790</td>\n",
                            "      <td>0.031357</td>\n",
                            "      <td>0.028903</td>\n",
                            "      <td>0.010907</td>\n",
                            "      <td>0.027674</td>\n",
                            "      <td>-0.024002</td>\n",
                            "      <td>-0.017142</td>\n",
                            "      <td>0.005235</td>\n",
                            "      <td>1.022528</td>\n",
                            "      <td>-0.002701</td>\n",
                            "      <td>0.004808</td>\n",
                            "      <td>0.908595</td>\n",
                            "    </tr>\n",
                            "    <tr>\n",
                            "      <th>X10</th>\n",
                            "      <td>-0.020885</td>\n",
                            "      <td>-0.000964</td>\n",
                            "      <td>-0.007292</td>\n",
                            "      <td>0.008695</td>\n",
                            "      <td>0.057351</td>\n",
                            "      <td>0.009376</td>\n",
                            "      <td>-0.018450</td>\n",
                            "      <td>0.020190</td>\n",
                            "      <td>-0.002701</td>\n",
                            "      <td>1.063877</td>\n",
                            "      <td>0.013747</td>\n",
                            "      <td>-1.224379</td>\n",
                            "    </tr>\n",
                            "    <tr>\n",
                            "      <th>T</th>\n",
                            "      <td>-0.004188</td>\n",
                            "      <td>-0.020979</td>\n",
                            "      <td>0.020594</td>\n",
                            "      <td>0.016558</td>\n",
                            "      <td>-0.008553</td>\n",
                            "      <td>-0.013176</td>\n",
                            "      <td>-0.004985</td>\n",
                            "      <td>0.011552</td>\n",
                            "      <td>0.004808</td>\n",
                            "      <td>0.013747</td>\n",
                            "      <td>0.249943</td>\n",
                            "      <td>0.586872</td>\n",
                            "    </tr>\n",
                            "    <tr>\n",
                            "      <th>Y</th>\n",
                            "      <td>49.597994</td>\n",
                            "      <td>6.126487</td>\n",
                            "      <td>19.880386</td>\n",
                            "      <td>9.491887</td>\n",
                            "      <td>4.269846</td>\n",
                            "      <td>-0.892172</td>\n",
                            "      <td>-1.282637</td>\n",
                            "      <td>3.074354</td>\n",
                            "      <td>0.908595</td>\n",
                            "      <td>-1.224379</td>\n",
                            "      <td>0.586872</td>\n",
                            "      <td>3695.796534</td>\n",
                            "    </tr>\n",
                            "  </tbody>\n",
                            "</table>\n",
                            "</div>"
                        ],
                        "text/plain": [
                            "            X1        X2         X3        X4        X5        X6        X7  \\\n",
                            "X1    0.983304  0.014045  -0.000189  0.008015 -0.016065 -0.001043  0.004428   \n",
                            "X2    0.014045  1.006121   0.031699 -0.015039 -0.008409 -0.016452 -0.001691   \n",
                            "X3   -0.000189  0.031699   1.005702  0.005195 -0.014588 -0.004972 -0.020226   \n",
                            "X4    0.008015 -0.015039   0.005195  0.950916 -0.019210  0.021071 -0.018722   \n",
                            "X5   -0.016065 -0.008409  -0.014588 -0.019210  1.018603  0.002247 -0.013766   \n",
                            "X6   -0.001043 -0.016452  -0.004972  0.021071  0.002247  1.083981 -0.002390   \n",
                            "X7    0.004428 -0.001691  -0.020226 -0.018722 -0.013766 -0.002390  0.985049   \n",
                            "X8    0.020371 -0.007508   0.028291  0.056751 -0.028570 -0.006789  0.019813   \n",
                            "X9   -0.022790  0.031357   0.028903  0.010907  0.027674 -0.024002 -0.017142   \n",
                            "X10  -0.020885 -0.000964  -0.007292  0.008695  0.057351  0.009376 -0.018450   \n",
                            "T    -0.004188 -0.020979   0.020594  0.016558 -0.008553 -0.013176 -0.004985   \n",
                            "Y    49.597994  6.126487  19.880386  9.491887  4.269846 -0.892172 -1.282637   \n",
                            "\n",
                            "           X8        X9       X10         T            Y  \n",
                            "X1   0.020371 -0.022790 -0.020885 -0.004188    49.597994  \n",
                            "X2  -0.007508  0.031357 -0.000964 -0.020979     6.126487  \n",
                            "X3   0.028291  0.028903 -0.007292  0.020594    19.880386  \n",
                            "X4   0.056751  0.010907  0.008695  0.016558     9.491887  \n",
                            "X5  -0.028570  0.027674  0.057351 -0.008553     4.269846  \n",
                            "X6  -0.006789 -0.024002  0.009376 -0.013176    -0.892172  \n",
                            "X7   0.019813 -0.017142 -0.018450 -0.004985    -1.282637  \n",
                            "X8   1.000475  0.005235  0.020190  0.011552     3.074354  \n",
                            "X9   0.005235  1.022528 -0.002701  0.004808     0.908595  \n",
                            "X10  0.020190 -0.002701  1.063877  0.013747    -1.224379  \n",
                            "T    0.011552  0.004808  0.013747  0.249943     0.586872  \n",
                            "Y    3.074354  0.908595 -1.224379  0.586872  3695.796534  "
                        ]
                    },
                    "execution_count": 76,
                    "metadata": {},
                    "output_type": "execute_result"
                }
            ],
            "source": [
                "linear_synthetic_df.cov()"
            ]
        },
        {
            "cell_type": "code",
            "execution_count": 85,
            "metadata": {},
            "outputs": [],
            "source": [
                "cupeds_params_map2 = {\n",
                "    'DifferenceInMeans':{\n",
                "    },\n",
                "    'CUPED' : {\n",
                "        'covariate_column': linear_synthetic_df.columns.to_list()[1]\n",
                "    },\n",
                "    'MultivariateCUPED' : {\n",
                "            'covariate_columns': linear_synthetic_df.columns.to_list()[1:10]\n",
                "    }\n",
                "    \n",
                "}"
            ]
        },
        {
            "cell_type": "code",
            "execution_count": 89,
            "metadata": {},
            "outputs": [
                {
                    "name": "stdout",
                    "output_type": "stream",
                    "text": [
                        "Running DifferenceInMeans...\n"
                    ]
                },
                {
                    "name": "stderr",
                    "output_type": "stream",
                    "text": [
                        "100%|██████████| 100/100 [00:00<00:00, 215.03it/s]\n"
                    ]
                },
                {
                    "name": "stdout",
                    "output_type": "stream",
                    "text": [
                        "Running CUPED...\n"
                    ]
                },
                {
                    "name": "stderr",
                    "output_type": "stream",
                    "text": [
                        "100%|██████████| 100/100 [00:01<00:00, 94.11it/s]\n"
                    ]
                },
                {
                    "name": "stdout",
                    "output_type": "stream",
                    "text": [
                        "Running MultivariateCUPED...\n"
                    ]
                },
                {
                    "name": "stderr",
                    "output_type": "stream",
                    "text": [
                        "100%|██████████| 100/100 [00:01<00:00, 97.57it/s]"
                    ]
                },
                {
                    "name": "stdout",
                    "output_type": "stream",
                    "text": [
                        "Done!\n"
                    ]
                },
                {
                    "name": "stderr",
                    "output_type": "stream",
                    "text": [
                        "\n"
                    ]
                }
            ],
            "source": [
                "cupeds_evaluation2 = VREvaluationAll([DifferenceInMeans, CUPED, MultivariateCUPED])\n",
                "cupeds_evaluation2 = cupeds_evaluation2.run_all(data=linear_synthetic_df,\n",
                "                                      treatment_column='T',\n",
                "                                      target_column='Y',\n",
                "                                      method_params_map=cupeds_params_map2,\n",
                "                                      verbose=True,\n",
                "                                      n_bootstrap=100,\n",
                "                                      true_ate=1.8)"
            ]
        },
        {
            "cell_type": "code",
            "execution_count": 90,
            "metadata": {},
            "outputs": [
                {
                    "data": {
                        "text/html": [
                            "<div>\n",
                            "<style scoped>\n",
                            "    .dataframe tbody tr th:only-of-type {\n",
                            "        vertical-align: middle;\n",
                            "    }\n",
                            "\n",
                            "    .dataframe tbody tr th {\n",
                            "        vertical-align: top;\n",
                            "    }\n",
                            "\n",
                            "    .dataframe thead th {\n",
                            "        text-align: right;\n",
                            "    }\n",
                            "</style>\n",
                            "<table border=\"1\" class=\"dataframe\">\n",
                            "  <thead>\n",
                            "    <tr style=\"text-align: right;\">\n",
                            "      <th></th>\n",
                            "      <th>Method</th>\n",
                            "      <th>Estimate</th>\n",
                            "      <th>Estimate CI</th>\n",
                            "      <th>Bias</th>\n",
                            "      <th>Bias CI</th>\n",
                            "      <th>p-value</th>\n",
                            "      <th>p-value CI</th>\n",
                            "      <th>Coverage Probability</th>\n",
                            "      <th>Variance Reduction</th>\n",
                            "    </tr>\n",
                            "  </thead>\n",
                            "  <tbody>\n",
                            "    <tr>\n",
                            "      <th>0</th>\n",
                            "      <td>DifferenceInMeans</td>\n",
                            "      <td>2.365392</td>\n",
                            "      <td>(-4.042319486597556, 9.31087329178238)</td>\n",
                            "      <td>0.565392</td>\n",
                            "      <td>(-5.842319486597557, 7.5108732917823815)</td>\n",
                            "      <td>0.393116</td>\n",
                            "      <td>(0.0005433034428435092, 0.9593866974400347)</td>\n",
                            "      <td>0.87</td>\n",
                            "      <td>0.000000</td>\n",
                            "    </tr>\n",
                            "    <tr>\n",
                            "      <th>1</th>\n",
                            "      <td>CUPED</td>\n",
                            "      <td>2.898544</td>\n",
                            "      <td>(-3.6393469471885735, 9.95359604175406)</td>\n",
                            "      <td>1.098544</td>\n",
                            "      <td>(-5.439346947188573, 8.15359604175406)</td>\n",
                            "      <td>0.337978</td>\n",
                            "      <td>(0.00021988404674572917, 0.9856818779158311)</td>\n",
                            "      <td>0.84</td>\n",
                            "      <td>-0.011226</td>\n",
                            "    </tr>\n",
                            "    <tr>\n",
                            "      <th>2</th>\n",
                            "      <td>MultivariateCUPED</td>\n",
                            "      <td>0.686922</td>\n",
                            "      <td>(-4.5863098163990825, 7.104066568068748)</td>\n",
                            "      <td>-1.113078</td>\n",
                            "      <td>(-6.386309816399082, 5.304066568068748)</td>\n",
                            "      <td>0.442073</td>\n",
                            "      <td>(0.005554853525724459, 0.952841985068977)</td>\n",
                            "      <td>0.85</td>\n",
                            "      <td>0.074066</td>\n",
                            "    </tr>\n",
                            "  </tbody>\n",
                            "</table>\n",
                            "</div>"
                        ],
                        "text/plain": [
                            "              Method  Estimate                               Estimate CI  \\\n",
                            "0  DifferenceInMeans  2.365392    (-4.042319486597556, 9.31087329178238)   \n",
                            "1              CUPED  2.898544   (-3.6393469471885735, 9.95359604175406)   \n",
                            "2  MultivariateCUPED  0.686922  (-4.5863098163990825, 7.104066568068748)   \n",
                            "\n",
                            "       Bias                                   Bias CI   p-value  \\\n",
                            "0  0.565392  (-5.842319486597557, 7.5108732917823815)  0.393116   \n",
                            "1  1.098544    (-5.439346947188573, 8.15359604175406)  0.337978   \n",
                            "2 -1.113078   (-6.386309816399082, 5.304066568068748)  0.442073   \n",
                            "\n",
                            "                                     p-value CI  Coverage Probability  \\\n",
                            "0   (0.0005433034428435092, 0.9593866974400347)                  0.87   \n",
                            "1  (0.00021988404674572917, 0.9856818779158311)                  0.84   \n",
                            "2     (0.005554853525724459, 0.952841985068977)                  0.85   \n",
                            "\n",
                            "   Variance Reduction  \n",
                            "0            0.000000  \n",
                            "1           -0.011226  \n",
                            "2            0.074066  "
                        ]
                    },
                    "execution_count": 90,
                    "metadata": {},
                    "output_type": "execute_result"
                }
            ],
            "source": [
                "cupeds_evaluation2.report()"
            ]
        },
        {
            "cell_type": "code",
            "execution_count": 91,
            "metadata": {},
            "outputs": [
                {
                    "data": {
                        "image/png": "[encoded data removed]",
                        "text/plain": [
                            "<Figure size 640x480 with 1 Axes>"
                        ]
                    },
                    "metadata": {},
                    "output_type": "display_data"
                }
            ],
            "source": [
                "cupeds_evaluation2.plot(plot_what='estimates')"
            ]
        },
        {
            "cell_type": "markdown",
            "metadata": {},
            "source": [
                "### Non linear"
            ]
        },
        {
            "cell_type": "code",
            "execution_count": 101,
            "metadata": {},
            "outputs": [
                {
                    "data": {
                        "text/html": [
                            "<div>\n",
                            "<style scoped>\n",
                            "    .dataframe tbody tr th:only-of-type {\n",
                            "        vertical-align: middle;\n",
                            "    }\n",
                            "\n",
                            "    .dataframe tbody tr th {\n",
                            "        vertical-align: top;\n",
                            "    }\n",
                            "\n",
                            "    .dataframe thead th {\n",
                            "        text-align: right;\n",
                            "    }\n",
                            "</style>\n",
                            "<table border=\"1\" class=\"dataframe\">\n",
                            "  <thead>\n",
                            "    <tr style=\"text-align: right;\">\n",
                            "      <th></th>\n",
                            "      <th>X1</th>\n",
                            "      <th>X2</th>\n",
                            "      <th>X3</th>\n",
                            "      <th>X4</th>\n",
                            "      <th>X5</th>\n",
                            "      <th>X6</th>\n",
                            "      <th>X7</th>\n",
                            "      <th>X8</th>\n",
                            "      <th>X9</th>\n",
                            "      <th>X10</th>\n",
                            "      <th>T</th>\n",
                            "      <th>Y</th>\n",
                            "    </tr>\n",
                            "  </thead>\n",
                            "  <tbody>\n",
                            "    <tr>\n",
                            "      <th>X1</th>\n",
                            "      <td>0.992923</td>\n",
                            "      <td>0.009412</td>\n",
                            "      <td>-0.021164</td>\n",
                            "      <td>0.005297</td>\n",
                            "      <td>-0.027109</td>\n",
                            "      <td>0.013876</td>\n",
                            "      <td>-0.026355</td>\n",
                            "      <td>-0.018982</td>\n",
                            "      <td>0.015787</td>\n",
                            "      <td>-0.015703</td>\n",
                            "      <td>-0.007047</td>\n",
                            "      <td>49.731623</td>\n",
                            "    </tr>\n",
                            "    <tr>\n",
                            "      <th>X2</th>\n",
                            "      <td>0.009412</td>\n",
                            "      <td>1.028178</td>\n",
                            "      <td>0.030876</td>\n",
                            "      <td>0.029096</td>\n",
                            "      <td>0.002138</td>\n",
                            "      <td>0.024983</td>\n",
                            "      <td>0.017184</td>\n",
                            "      <td>-0.013214</td>\n",
                            "      <td>0.012836</td>\n",
                            "      <td>0.002218</td>\n",
                            "      <td>0.011061</td>\n",
                            "      <td>-1.483488</td>\n",
                            "    </tr>\n",
                            "    <tr>\n",
                            "      <th>X3</th>\n",
                            "      <td>-0.021164</td>\n",
                            "      <td>0.030876</td>\n",
                            "      <td>1.013675</td>\n",
                            "      <td>-0.009430</td>\n",
                            "      <td>-0.022140</td>\n",
                            "      <td>0.024327</td>\n",
                            "      <td>-0.014378</td>\n",
                            "      <td>-0.009432</td>\n",
                            "      <td>-0.012086</td>\n",
                            "      <td>0.008838</td>\n",
                            "      <td>-0.019721</td>\n",
                            "      <td>-11.882127</td>\n",
                            "    </tr>\n",
                            "    <tr>\n",
                            "      <th>X4</th>\n",
                            "      <td>0.005297</td>\n",
                            "      <td>0.029096</td>\n",
                            "      <td>-0.009430</td>\n",
                            "      <td>0.941076</td>\n",
                            "      <td>0.000586</td>\n",
                            "      <td>-0.014963</td>\n",
                            "      <td>0.005910</td>\n",
                            "      <td>0.010061</td>\n",
                            "      <td>0.027139</td>\n",
                            "      <td>0.006989</td>\n",
                            "      <td>-0.019052</td>\n",
                            "      <td>1.509441</td>\n",
                            "    </tr>\n",
                            "    <tr>\n",
                            "      <th>X5</th>\n",
                            "      <td>-0.027109</td>\n",
                            "      <td>0.002138</td>\n",
                            "      <td>-0.022140</td>\n",
                            "      <td>0.000586</td>\n",
                            "      <td>1.043330</td>\n",
                            "      <td>0.055562</td>\n",
                            "      <td>0.010431</td>\n",
                            "      <td>0.004748</td>\n",
                            "      <td>0.030158</td>\n",
                            "      <td>-0.009879</td>\n",
                            "      <td>-0.001355</td>\n",
                            "      <td>15.518870</td>\n",
                            "    </tr>\n",
                            "    <tr>\n",
                            "      <th>X6</th>\n",
                            "      <td>0.013876</td>\n",
                            "      <td>0.024983</td>\n",
                            "      <td>0.024327</td>\n",
                            "      <td>-0.014963</td>\n",
                            "      <td>0.055562</td>\n",
                            "      <td>1.000555</td>\n",
                            "      <td>-0.017017</td>\n",
                            "      <td>-0.043804</td>\n",
                            "      <td>-0.011584</td>\n",
                            "      <td>-0.018859</td>\n",
                            "      <td>0.004421</td>\n",
                            "      <td>-0.491255</td>\n",
                            "    </tr>\n",
                            "    <tr>\n",
                            "      <th>X7</th>\n",
                            "      <td>-0.026355</td>\n",
                            "      <td>0.017184</td>\n",
                            "      <td>-0.014378</td>\n",
                            "      <td>0.005910</td>\n",
                            "      <td>0.010431</td>\n",
                            "      <td>-0.017017</td>\n",
                            "      <td>0.993894</td>\n",
                            "      <td>0.003645</td>\n",
                            "      <td>0.005553</td>\n",
                            "      <td>0.008805</td>\n",
                            "      <td>0.008454</td>\n",
                            "      <td>-1.866427</td>\n",
                            "    </tr>\n",
                            "    <tr>\n",
                            "      <th>X8</th>\n",
                            "      <td>-0.018982</td>\n",
                            "      <td>-0.013214</td>\n",
                            "      <td>-0.009432</td>\n",
                            "      <td>0.010061</td>\n",
                            "      <td>0.004748</td>\n",
                            "      <td>-0.043804</td>\n",
                            "      <td>0.003645</td>\n",
                            "      <td>0.992336</td>\n",
                            "      <td>0.001295</td>\n",
                            "      <td>0.011029</td>\n",
                            "      <td>0.002199</td>\n",
                            "      <td>-1.305605</td>\n",
                            "    </tr>\n",
                            "    <tr>\n",
                            "      <th>X9</th>\n",
                            "      <td>0.015787</td>\n",
                            "      <td>0.012836</td>\n",
                            "      <td>-0.012086</td>\n",
                            "      <td>0.027139</td>\n",
                            "      <td>0.030158</td>\n",
                            "      <td>-0.011584</td>\n",
                            "      <td>0.005553</td>\n",
                            "      <td>0.001295</td>\n",
                            "      <td>1.011970</td>\n",
                            "      <td>-0.002815</td>\n",
                            "      <td>-0.014707</td>\n",
                            "      <td>1.526508</td>\n",
                            "    </tr>\n",
                            "    <tr>\n",
                            "      <th>X10</th>\n",
                            "      <td>-0.015703</td>\n",
                            "      <td>0.002218</td>\n",
                            "      <td>0.008838</td>\n",
                            "      <td>0.006989</td>\n",
                            "      <td>-0.009879</td>\n",
                            "      <td>-0.018859</td>\n",
                            "      <td>0.008805</td>\n",
                            "      <td>0.011029</td>\n",
                            "      <td>-0.002815</td>\n",
                            "      <td>1.027168</td>\n",
                            "      <td>-0.001970</td>\n",
                            "      <td>-1.348664</td>\n",
                            "    </tr>\n",
                            "    <tr>\n",
                            "      <th>T</th>\n",
                            "      <td>-0.007047</td>\n",
                            "      <td>0.011061</td>\n",
                            "      <td>-0.019721</td>\n",
                            "      <td>-0.019052</td>\n",
                            "      <td>-0.001355</td>\n",
                            "      <td>0.004421</td>\n",
                            "      <td>0.008454</td>\n",
                            "      <td>0.002199</td>\n",
                            "      <td>-0.014707</td>\n",
                            "      <td>-0.001970</td>\n",
                            "      <td>0.250095</td>\n",
                            "      <td>0.641402</td>\n",
                            "    </tr>\n",
                            "    <tr>\n",
                            "      <th>Y</th>\n",
                            "      <td>49.731623</td>\n",
                            "      <td>-1.483488</td>\n",
                            "      <td>-11.882127</td>\n",
                            "      <td>1.509441</td>\n",
                            "      <td>15.518870</td>\n",
                            "      <td>-0.491255</td>\n",
                            "      <td>-1.866427</td>\n",
                            "      <td>-1.305605</td>\n",
                            "      <td>1.526508</td>\n",
                            "      <td>-1.348664</td>\n",
                            "      <td>0.641402</td>\n",
                            "      <td>4104.869266</td>\n",
                            "    </tr>\n",
                            "  </tbody>\n",
                            "</table>\n",
                            "</div>"
                        ],
                        "text/plain": [
                            "            X1        X2         X3        X4         X5        X6        X7  \\\n",
                            "X1    0.992923  0.009412  -0.021164  0.005297  -0.027109  0.013876 -0.026355   \n",
                            "X2    0.009412  1.028178   0.030876  0.029096   0.002138  0.024983  0.017184   \n",
                            "X3   -0.021164  0.030876   1.013675 -0.009430  -0.022140  0.024327 -0.014378   \n",
                            "X4    0.005297  0.029096  -0.009430  0.941076   0.000586 -0.014963  0.005910   \n",
                            "X5   -0.027109  0.002138  -0.022140  0.000586   1.043330  0.055562  0.010431   \n",
                            "X6    0.013876  0.024983   0.024327 -0.014963   0.055562  1.000555 -0.017017   \n",
                            "X7   -0.026355  0.017184  -0.014378  0.005910   0.010431 -0.017017  0.993894   \n",
                            "X8   -0.018982 -0.013214  -0.009432  0.010061   0.004748 -0.043804  0.003645   \n",
                            "X9    0.015787  0.012836  -0.012086  0.027139   0.030158 -0.011584  0.005553   \n",
                            "X10  -0.015703  0.002218   0.008838  0.006989  -0.009879 -0.018859  0.008805   \n",
                            "T    -0.007047  0.011061  -0.019721 -0.019052  -0.001355  0.004421  0.008454   \n",
                            "Y    49.731623 -1.483488 -11.882127  1.509441  15.518870 -0.491255 -1.866427   \n",
                            "\n",
                            "           X8        X9       X10         T            Y  \n",
                            "X1  -0.018982  0.015787 -0.015703 -0.007047    49.731623  \n",
                            "X2  -0.013214  0.012836  0.002218  0.011061    -1.483488  \n",
                            "X3  -0.009432 -0.012086  0.008838 -0.019721   -11.882127  \n",
                            "X4   0.010061  0.027139  0.006989 -0.019052     1.509441  \n",
                            "X5   0.004748  0.030158 -0.009879 -0.001355    15.518870  \n",
                            "X6  -0.043804 -0.011584 -0.018859  0.004421    -0.491255  \n",
                            "X7   0.003645  0.005553  0.008805  0.008454    -1.866427  \n",
                            "X8   0.992336  0.001295  0.011029  0.002199    -1.305605  \n",
                            "X9   0.001295  1.011970 -0.002815 -0.014707     1.526508  \n",
                            "X10  0.011029 -0.002815  1.027168 -0.001970    -1.348664  \n",
                            "T    0.002199 -0.014707 -0.001970  0.250095     0.641402  \n",
                            "Y   -1.305605  1.526508 -1.348664  0.641402  4104.869266  "
                        ]
                    },
                    "execution_count": 101,
                    "metadata": {},
                    "output_type": "execute_result"
                }
            ],
            "source": [
                "nonlinear_synthetic_df.cov()"
            ]
        },
        {
            "cell_type": "code",
            "execution_count": 108,
            "metadata": {},
            "outputs": [],
            "source": [
                "cupeds_params_map3 = {\n",
                "    'DifferenceInMeans':{\n",
                "    },\n",
                "    'CUPED' : {\n",
                "        'covariate_column': nonlinear_synthetic_df.columns.to_list()[0]\n",
                "    },\n",
                "    'MultivariateCUPED' : {\n",
                "            'covariate_columns': nonlinear_synthetic_df.columns.to_list()[0:5]\n",
                "    }\n",
                "    \n",
                "}"
            ]
        },
        {
            "cell_type": "code",
            "execution_count": 112,
            "metadata": {},
            "outputs": [
                {
                    "name": "stdout",
                    "output_type": "stream",
                    "text": [
                        "Running DifferenceInMeans...\n"
                    ]
                },
                {
                    "name": "stderr",
                    "output_type": "stream",
                    "text": [
                        "100%|██████████| 1000/1000 [00:04<00:00, 243.24it/s]\n"
                    ]
                },
                {
                    "name": "stdout",
                    "output_type": "stream",
                    "text": [
                        "Running CUPED...\n"
                    ]
                },
                {
                    "name": "stderr",
                    "output_type": "stream",
                    "text": [
                        "100%|██████████| 1000/1000 [00:08<00:00, 113.66it/s]\n"
                    ]
                },
                {
                    "name": "stdout",
                    "output_type": "stream",
                    "text": [
                        "Running MultivariateCUPED...\n"
                    ]
                },
                {
                    "name": "stderr",
                    "output_type": "stream",
                    "text": [
                        "100%|██████████| 1000/1000 [00:09<00:00, 107.62it/s]"
                    ]
                },
                {
                    "name": "stdout",
                    "output_type": "stream",
                    "text": [
                        "Done!\n"
                    ]
                },
                {
                    "name": "stderr",
                    "output_type": "stream",
                    "text": [
                        "\n"
                    ]
                }
            ],
            "source": [
                "cupeds_evaluation3 = VREvaluationAll([DifferenceInMeans, CUPED, MultivariateCUPED])\n",
                "cupeds_evaluation3 = cupeds_evaluation3.run_all(data=nonlinear_synthetic_df,\n",
                "                                      treatment_column='T',\n",
                "                                      target_column='Y',\n",
                "                                      method_params_map=cupeds_params_map3,\n",
                "                                      verbose=True,\n",
                "                                      n_bootstrap=1000,\n",
                "                                      true_ate=1.8)"
            ]
        },
        {
            "cell_type": "code",
            "execution_count": 113,
            "metadata": {},
            "outputs": [
                {
                    "data": {
                        "text/html": [
                            "<div>\n",
                            "<style scoped>\n",
                            "    .dataframe tbody tr th:only-of-type {\n",
                            "        vertical-align: middle;\n",
                            "    }\n",
                            "\n",
                            "    .dataframe tbody tr th {\n",
                            "        vertical-align: top;\n",
                            "    }\n",
                            "\n",
                            "    .dataframe thead th {\n",
                            "        text-align: right;\n",
                            "    }\n",
                            "</style>\n",
                            "<table border=\"1\" class=\"dataframe\">\n",
                            "  <thead>\n",
                            "    <tr style=\"text-align: right;\">\n",
                            "      <th></th>\n",
                            "      <th>Method</th>\n",
                            "      <th>Estimate</th>\n",
                            "      <th>Estimate CI</th>\n",
                            "      <th>Bias</th>\n",
                            "      <th>Bias CI</th>\n",
                            "      <th>p-value</th>\n",
                            "      <th>p-value CI</th>\n",
                            "      <th>Coverage Probability</th>\n",
                            "      <th>Variance Reduction</th>\n",
                            "    </tr>\n",
                            "  </thead>\n",
                            "  <tbody>\n",
                            "    <tr>\n",
                            "      <th>0</th>\n",
                            "      <td>DifferenceInMeans</td>\n",
                            "      <td>2.590834</td>\n",
                            "      <td>(-3.120385604167081, 7.741566572412593)</td>\n",
                            "      <td>0.790834</td>\n",
                            "      <td>(-4.92038560416708, 5.941566572412593)</td>\n",
                            "      <td>0.381220</td>\n",
                            "      <td>(0.006298824390205459, 0.9473668306022858)</td>\n",
                            "      <td>0.953</td>\n",
                            "      <td>0.000000</td>\n",
                            "    </tr>\n",
                            "    <tr>\n",
                            "      <th>1</th>\n",
                            "      <td>CUPED</td>\n",
                            "      <td>4.006679</td>\n",
                            "      <td>(0.6308764244295546, 7.505649422477031)</td>\n",
                            "      <td>2.206679</td>\n",
                            "      <td>(-1.1691235755704454, 5.705649422477031)</td>\n",
                            "      <td>0.107512</td>\n",
                            "      <td>(3.2628943472672085e-05, 0.6193454724121827)</td>\n",
                            "      <td>0.758</td>\n",
                            "      <td>0.580955</td>\n",
                            "    </tr>\n",
                            "    <tr>\n",
                            "      <th>2</th>\n",
                            "      <td>MultivariateCUPED</td>\n",
                            "      <td>3.465567</td>\n",
                            "      <td>(0.5136797706669317, 6.5587454862188945)</td>\n",
                            "      <td>1.665567</td>\n",
                            "      <td>(-1.2863202293330682, 4.758745486218895)</td>\n",
                            "      <td>0.106145</td>\n",
                            "      <td>(2.5815899999193853e-05, 0.6814134362735987)</td>\n",
                            "      <td>0.825</td>\n",
                            "      <td>0.684182</td>\n",
                            "    </tr>\n",
                            "  </tbody>\n",
                            "</table>\n",
                            "</div>"
                        ],
                        "text/plain": [
                            "              Method  Estimate                               Estimate CI  \\\n",
                            "0  DifferenceInMeans  2.590834   (-3.120385604167081, 7.741566572412593)   \n",
                            "1              CUPED  4.006679   (0.6308764244295546, 7.505649422477031)   \n",
                            "2  MultivariateCUPED  3.465567  (0.5136797706669317, 6.5587454862188945)   \n",
                            "\n",
                            "       Bias                                   Bias CI   p-value  \\\n",
                            "0  0.790834    (-4.92038560416708, 5.941566572412593)  0.381220   \n",
                            "1  2.206679  (-1.1691235755704454, 5.705649422477031)  0.107512   \n",
                            "2  1.665567  (-1.2863202293330682, 4.758745486218895)  0.106145   \n",
                            "\n",
                            "                                     p-value CI  Coverage Probability  \\\n",
                            "0    (0.006298824390205459, 0.9473668306022858)                 0.953   \n",
                            "1  (3.2628943472672085e-05, 0.6193454724121827)                 0.758   \n",
                            "2  (2.5815899999193853e-05, 0.6814134362735987)                 0.825   \n",
                            "\n",
                            "   Variance Reduction  \n",
                            "0            0.000000  \n",
                            "1            0.580955  \n",
                            "2            0.684182  "
                        ]
                    },
                    "execution_count": 113,
                    "metadata": {},
                    "output_type": "execute_result"
                }
            ],
            "source": [
                "cupeds_evaluation3.report()"
            ]
        },
        {
            "cell_type": "code",
            "execution_count": 114,
            "metadata": {},
            "outputs": [
                {
                    "data": {
                        "image/png": "[encoded data removed]",
                        "text/plain": [
                            "<Figure size 640x480 with 1 Axes>"
                        ]
                    },
                    "metadata": {},
                    "output_type": "display_data"
                }
            ],
            "source": [
                "cupeds_evaluation3.plot(plot_what='estimates')"
            ]
        }
    ],
    "metadata": {
        "kernelspec": {
            "display_name": "wise-vr",
            "language": "python",
            "name": "python3"
        },
        "language_info": {
            "codemirror_mode": {
                "name": "ipython",
                "version": 3
            },
            "file_extension": ".py",
            "mimetype": "text/x-python",
            "name": "python",
            "nbconvert_exporter": "python",
            "pygments_lexer": "ipython3",
            "version": "3.9.16"
        },
        "orig_nbformat": 4
    },
    "nbformat": 4,
    "nbformat_minor": 2
}
